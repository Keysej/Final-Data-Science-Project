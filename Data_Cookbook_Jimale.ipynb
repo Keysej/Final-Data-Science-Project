{
  "nbformat": 4,
  "nbformat_minor": 0,
  "metadata": {
    "colab": {
      "provenance": []
    },
    "kernelspec": {
      "name": "python3",
      "display_name": "Python 3"
    },
    "language_info": {
      "name": "python"
    }
  },
  "cells": [
    {
      "cell_type": "markdown",
      "source": [
        "Data Cookbook:\n",
        "\n",
        "Recipe 1: \"Crimes Over Time\":\n",
        "Description: Load, clean, and visualize arrest and crime data over time.\n",
        "\n",
        "Goal: Compare trends using a stacked area chart.\n",
        "\n",
        "Tools: Python, Pandas, Matplotlib"
      ],
      "metadata": {
        "id": "l7ZshprDs3Jp"
      }
    },
    {
      "cell_type": "code",
      "source": [
        "# Import the necessary libraries\n",
        "import pandas as pd\n",
        "import geopandas as gpd\n",
        "import matplotlib.pyplot as plt\n",
        "import seaborn as sns\n",
        "from sklearn.cluster import KMeans\n",
        "from sklearn.preprocessing import StandardScaler\n",
        "\n",
        "#install geopandas as mlp\n",
        "!pip install geopandas matplotlib"
      ],
      "metadata": {
        "colab": {
          "base_uri": "https://localhost:8080/"
        },
        "id": "yzsqi2HktA6q",
        "outputId": "16793791-409e-4b27-e4a6-e7503bbfbddc"
      },
      "execution_count": 2,
      "outputs": [
        {
          "output_type": "stream",
          "name": "stdout",
          "text": [
            "Requirement already satisfied: geopandas in /usr/local/lib/python3.11/dist-packages (1.0.1)\n",
            "Requirement already satisfied: matplotlib in /usr/local/lib/python3.11/dist-packages (3.10.0)\n",
            "Requirement already satisfied: numpy>=1.22 in /usr/local/lib/python3.11/dist-packages (from geopandas) (2.0.2)\n",
            "Requirement already satisfied: pyogrio>=0.7.2 in /usr/local/lib/python3.11/dist-packages (from geopandas) (0.11.0)\n",
            "Requirement already satisfied: packaging in /usr/local/lib/python3.11/dist-packages (from geopandas) (24.2)\n",
            "Requirement already satisfied: pandas>=1.4.0 in /usr/local/lib/python3.11/dist-packages (from geopandas) (2.2.2)\n",
            "Requirement already satisfied: pyproj>=3.3.0 in /usr/local/lib/python3.11/dist-packages (from geopandas) (3.7.1)\n",
            "Requirement already satisfied: shapely>=2.0.0 in /usr/local/lib/python3.11/dist-packages (from geopandas) (2.1.0)\n",
            "Requirement already satisfied: contourpy>=1.0.1 in /usr/local/lib/python3.11/dist-packages (from matplotlib) (1.3.2)\n",
            "Requirement already satisfied: cycler>=0.10 in /usr/local/lib/python3.11/dist-packages (from matplotlib) (0.12.1)\n",
            "Requirement already satisfied: fonttools>=4.22.0 in /usr/local/lib/python3.11/dist-packages (from matplotlib) (4.57.0)\n",
            "Requirement already satisfied: kiwisolver>=1.3.1 in /usr/local/lib/python3.11/dist-packages (from matplotlib) (1.4.8)\n",
            "Requirement already satisfied: pillow>=8 in /usr/local/lib/python3.11/dist-packages (from matplotlib) (11.2.1)\n",
            "Requirement already satisfied: pyparsing>=2.3.1 in /usr/local/lib/python3.11/dist-packages (from matplotlib) (3.2.3)\n",
            "Requirement already satisfied: python-dateutil>=2.7 in /usr/local/lib/python3.11/dist-packages (from matplotlib) (2.9.0.post0)\n",
            "Requirement already satisfied: pytz>=2020.1 in /usr/local/lib/python3.11/dist-packages (from pandas>=1.4.0->geopandas) (2025.2)\n",
            "Requirement already satisfied: tzdata>=2022.7 in /usr/local/lib/python3.11/dist-packages (from pandas>=1.4.0->geopandas) (2025.2)\n",
            "Requirement already satisfied: certifi in /usr/local/lib/python3.11/dist-packages (from pyogrio>=0.7.2->geopandas) (2025.4.26)\n",
            "Requirement already satisfied: six>=1.5 in /usr/local/lib/python3.11/dist-packages (from python-dateutil>=2.7->matplotlib) (1.17.0)\n"
          ]
        }
      ]
    },
    {
      "cell_type": "code",
      "source": [
        "#check col\n",
        "crime_df.columns"
      ],
      "metadata": {
        "colab": {
          "base_uri": "https://localhost:8080/"
        },
        "id": "c2T8UykDt-eu",
        "outputId": "1dd3cbe4-a4aa-40f1-e661-79e6b488c94f"
      },
      "execution_count": 9,
      "outputs": [
        {
          "output_type": "execute_result",
          "data": {
            "text/plain": [
              "Index(['Report Number', 'Report DateTime', 'Offense ID', 'Offense Date',\n",
              "       'NIBRS Group AB', 'NIBRS Crime Against Category',\n",
              "       'Offense Sub Category', 'Shooting Type Group', 'Block Address',\n",
              "       'Latitude', 'Longitude', 'Beat', 'Precinct', 'Sector', 'Neighborhood',\n",
              "       'Reporting Area', 'Offense Category', 'NIBRS Offense Code Description',\n",
              "       'NIBRS_offense_code'],\n",
              "      dtype='object')"
            ]
          },
          "metadata": {},
          "execution_count": 9
        }
      ]
    },
    {
      "cell_type": "code",
      "source": [
        "#Load Data\n",
        "crime_df = pd.read_csv('SPD_Crime_Data__2008-Present_20250504.csv')\n"
      ],
      "metadata": {
        "id": "H_5iU8Azs6Ii"
      },
      "execution_count": 6,
      "outputs": []
    },
    {
      "cell_type": "code",
      "source": [
        " crime_df.head()"
      ],
      "metadata": {
        "colab": {
          "base_uri": "https://localhost:8080/",
          "height": 516
        },
        "id": "TB-72dIWwpjq",
        "outputId": "be9ffd60-2951-4268-c5d6-86e2d50ad665"
      },
      "execution_count": 17,
      "outputs": [
        {
          "output_type": "execute_result",
          "data": {
            "text/plain": [
              "  report number         report datetime  offense id            offense date  \\\n",
              "0   2009-095116  03/20/2009 01:58:00 AM  7665902657  03/20/2009 12:50:00 AM   \n",
              "1   2011-380459  11/25/2011 11:26:00 AM  7674046661  11/25/2011 12:30:00 AM   \n",
              "2   2011-036614  01/31/2011 12:17:00 PM  7656640235  01/27/2011 12:01:00 AM   \n",
              "3   2014-272495  08/16/2014 09:08:00 PM  7655103418  08/16/2014 02:00:00 PM   \n",
              "4   2019-906066  05/20/2019 01:51:09 PM  8227998755  05/16/2019 11:00:00 AM   \n",
              "\n",
              "  nibrs group ab nibrs crime against category  \\\n",
              "0              A                     PROPERTY   \n",
              "1              A                     PROPERTY   \n",
              "2              A                     PROPERTY   \n",
              "3              A                     PROPERTY   \n",
              "4              A                     PROPERTY   \n",
              "\n",
              "                               offense sub category shooting type group  \\\n",
              "0                                     LARCENY-THEFT                   -   \n",
              "1                                     LARCENY-THEFT                   -   \n",
              "2  PROPERTY OFFENSES (INCLUDES STOLEN, DESTRUCTION)                   -   \n",
              "3                               MOTOR VEHICLE THEFT                   -   \n",
              "4                                     LARCENY-THEFT                   -   \n",
              "\n",
              "   block address  latitude  ...     neighborhood reporting area  \\\n",
              "0            NaN       NaN  ...                -            NaN   \n",
              "1            NaN       NaN  ...                -            NaN   \n",
              "2            NaN       NaN  ...                -            NaN   \n",
              "3            NaN       NaN  ...                -            NaN   \n",
              "4            NaN       NaN  ...  BRIGHTON/DUNLAP            NaN   \n",
              "\n",
              "  offense category            nibrs offense code description  \\\n",
              "0   PROPERTY CRIME                  Theft From Motor Vehicle   \n",
              "1   PROPERTY CRIME                         All Other Larceny   \n",
              "2        ALL OTHER  Destruction/Damage/Vandalism of Property   \n",
              "3   PROPERTY CRIME                       Motor Vehicle Theft   \n",
              "4   PROPERTY CRIME                         All Other Larceny   \n",
              "\n",
              "  nibrs_offense_code         report date  year  crime category month       day  \n",
              "0                23F 2009-03-20 01:58:00  2009  PROPERTY CRIME     3    Friday  \n",
              "1                23H 2011-11-25 11:26:00  2011  PROPERTY CRIME    11    Friday  \n",
              "2                290 2011-01-31 12:17:00  2011       ALL OTHER     1    Monday  \n",
              "3                240 2014-08-16 21:08:00  2014  PROPERTY CRIME     8  Saturday  \n",
              "4                23H 2019-05-20 13:51:09  2019  PROPERTY CRIME     5    Monday  \n",
              "\n",
              "[5 rows x 24 columns]"
            ],
            "text/html": [
              "\n",
              "  <div id=\"df-9a8ef745-0149-4c72-8d3f-9f0483404584\" class=\"colab-df-container\">\n",
              "    <div>\n",
              "<style scoped>\n",
              "    .dataframe tbody tr th:only-of-type {\n",
              "        vertical-align: middle;\n",
              "    }\n",
              "\n",
              "    .dataframe tbody tr th {\n",
              "        vertical-align: top;\n",
              "    }\n",
              "\n",
              "    .dataframe thead th {\n",
              "        text-align: right;\n",
              "    }\n",
              "</style>\n",
              "<table border=\"1\" class=\"dataframe\">\n",
              "  <thead>\n",
              "    <tr style=\"text-align: right;\">\n",
              "      <th></th>\n",
              "      <th>report number</th>\n",
              "      <th>report datetime</th>\n",
              "      <th>offense id</th>\n",
              "      <th>offense date</th>\n",
              "      <th>nibrs group ab</th>\n",
              "      <th>nibrs crime against category</th>\n",
              "      <th>offense sub category</th>\n",
              "      <th>shooting type group</th>\n",
              "      <th>block address</th>\n",
              "      <th>latitude</th>\n",
              "      <th>...</th>\n",
              "      <th>neighborhood</th>\n",
              "      <th>reporting area</th>\n",
              "      <th>offense category</th>\n",
              "      <th>nibrs offense code description</th>\n",
              "      <th>nibrs_offense_code</th>\n",
              "      <th>report date</th>\n",
              "      <th>year</th>\n",
              "      <th>crime category</th>\n",
              "      <th>month</th>\n",
              "      <th>day</th>\n",
              "    </tr>\n",
              "  </thead>\n",
              "  <tbody>\n",
              "    <tr>\n",
              "      <th>0</th>\n",
              "      <td>2009-095116</td>\n",
              "      <td>03/20/2009 01:58:00 AM</td>\n",
              "      <td>7665902657</td>\n",
              "      <td>03/20/2009 12:50:00 AM</td>\n",
              "      <td>A</td>\n",
              "      <td>PROPERTY</td>\n",
              "      <td>LARCENY-THEFT</td>\n",
              "      <td>-</td>\n",
              "      <td>NaN</td>\n",
              "      <td>NaN</td>\n",
              "      <td>...</td>\n",
              "      <td>-</td>\n",
              "      <td>NaN</td>\n",
              "      <td>PROPERTY CRIME</td>\n",
              "      <td>Theft From Motor Vehicle</td>\n",
              "      <td>23F</td>\n",
              "      <td>2009-03-20 01:58:00</td>\n",
              "      <td>2009</td>\n",
              "      <td>PROPERTY CRIME</td>\n",
              "      <td>3</td>\n",
              "      <td>Friday</td>\n",
              "    </tr>\n",
              "    <tr>\n",
              "      <th>1</th>\n",
              "      <td>2011-380459</td>\n",
              "      <td>11/25/2011 11:26:00 AM</td>\n",
              "      <td>7674046661</td>\n",
              "      <td>11/25/2011 12:30:00 AM</td>\n",
              "      <td>A</td>\n",
              "      <td>PROPERTY</td>\n",
              "      <td>LARCENY-THEFT</td>\n",
              "      <td>-</td>\n",
              "      <td>NaN</td>\n",
              "      <td>NaN</td>\n",
              "      <td>...</td>\n",
              "      <td>-</td>\n",
              "      <td>NaN</td>\n",
              "      <td>PROPERTY CRIME</td>\n",
              "      <td>All Other Larceny</td>\n",
              "      <td>23H</td>\n",
              "      <td>2011-11-25 11:26:00</td>\n",
              "      <td>2011</td>\n",
              "      <td>PROPERTY CRIME</td>\n",
              "      <td>11</td>\n",
              "      <td>Friday</td>\n",
              "    </tr>\n",
              "    <tr>\n",
              "      <th>2</th>\n",
              "      <td>2011-036614</td>\n",
              "      <td>01/31/2011 12:17:00 PM</td>\n",
              "      <td>7656640235</td>\n",
              "      <td>01/27/2011 12:01:00 AM</td>\n",
              "      <td>A</td>\n",
              "      <td>PROPERTY</td>\n",
              "      <td>PROPERTY OFFENSES (INCLUDES STOLEN, DESTRUCTION)</td>\n",
              "      <td>-</td>\n",
              "      <td>NaN</td>\n",
              "      <td>NaN</td>\n",
              "      <td>...</td>\n",
              "      <td>-</td>\n",
              "      <td>NaN</td>\n",
              "      <td>ALL OTHER</td>\n",
              "      <td>Destruction/Damage/Vandalism of Property</td>\n",
              "      <td>290</td>\n",
              "      <td>2011-01-31 12:17:00</td>\n",
              "      <td>2011</td>\n",
              "      <td>ALL OTHER</td>\n",
              "      <td>1</td>\n",
              "      <td>Monday</td>\n",
              "    </tr>\n",
              "    <tr>\n",
              "      <th>3</th>\n",
              "      <td>2014-272495</td>\n",
              "      <td>08/16/2014 09:08:00 PM</td>\n",
              "      <td>7655103418</td>\n",
              "      <td>08/16/2014 02:00:00 PM</td>\n",
              "      <td>A</td>\n",
              "      <td>PROPERTY</td>\n",
              "      <td>MOTOR VEHICLE THEFT</td>\n",
              "      <td>-</td>\n",
              "      <td>NaN</td>\n",
              "      <td>NaN</td>\n",
              "      <td>...</td>\n",
              "      <td>-</td>\n",
              "      <td>NaN</td>\n",
              "      <td>PROPERTY CRIME</td>\n",
              "      <td>Motor Vehicle Theft</td>\n",
              "      <td>240</td>\n",
              "      <td>2014-08-16 21:08:00</td>\n",
              "      <td>2014</td>\n",
              "      <td>PROPERTY CRIME</td>\n",
              "      <td>8</td>\n",
              "      <td>Saturday</td>\n",
              "    </tr>\n",
              "    <tr>\n",
              "      <th>4</th>\n",
              "      <td>2019-906066</td>\n",
              "      <td>05/20/2019 01:51:09 PM</td>\n",
              "      <td>8227998755</td>\n",
              "      <td>05/16/2019 11:00:00 AM</td>\n",
              "      <td>A</td>\n",
              "      <td>PROPERTY</td>\n",
              "      <td>LARCENY-THEFT</td>\n",
              "      <td>-</td>\n",
              "      <td>NaN</td>\n",
              "      <td>NaN</td>\n",
              "      <td>...</td>\n",
              "      <td>BRIGHTON/DUNLAP</td>\n",
              "      <td>NaN</td>\n",
              "      <td>PROPERTY CRIME</td>\n",
              "      <td>All Other Larceny</td>\n",
              "      <td>23H</td>\n",
              "      <td>2019-05-20 13:51:09</td>\n",
              "      <td>2019</td>\n",
              "      <td>PROPERTY CRIME</td>\n",
              "      <td>5</td>\n",
              "      <td>Monday</td>\n",
              "    </tr>\n",
              "  </tbody>\n",
              "</table>\n",
              "<p>5 rows × 24 columns</p>\n",
              "</div>\n",
              "    <div class=\"colab-df-buttons\">\n",
              "\n",
              "  <div class=\"colab-df-container\">\n",
              "    <button class=\"colab-df-convert\" onclick=\"convertToInteractive('df-9a8ef745-0149-4c72-8d3f-9f0483404584')\"\n",
              "            title=\"Convert this dataframe to an interactive table.\"\n",
              "            style=\"display:none;\">\n",
              "\n",
              "  <svg xmlns=\"http://www.w3.org/2000/svg\" height=\"24px\" viewBox=\"0 -960 960 960\">\n",
              "    <path d=\"M120-120v-720h720v720H120Zm60-500h600v-160H180v160Zm220 220h160v-160H400v160Zm0 220h160v-160H400v160ZM180-400h160v-160H180v160Zm440 0h160v-160H620v160ZM180-180h160v-160H180v160Zm440 0h160v-160H620v160Z\"/>\n",
              "  </svg>\n",
              "    </button>\n",
              "\n",
              "  <style>\n",
              "    .colab-df-container {\n",
              "      display:flex;\n",
              "      gap: 12px;\n",
              "    }\n",
              "\n",
              "    .colab-df-convert {\n",
              "      background-color: #E8F0FE;\n",
              "      border: none;\n",
              "      border-radius: 50%;\n",
              "      cursor: pointer;\n",
              "      display: none;\n",
              "      fill: #1967D2;\n",
              "      height: 32px;\n",
              "      padding: 0 0 0 0;\n",
              "      width: 32px;\n",
              "    }\n",
              "\n",
              "    .colab-df-convert:hover {\n",
              "      background-color: #E2EBFA;\n",
              "      box-shadow: 0px 1px 2px rgba(60, 64, 67, 0.3), 0px 1px 3px 1px rgba(60, 64, 67, 0.15);\n",
              "      fill: #174EA6;\n",
              "    }\n",
              "\n",
              "    .colab-df-buttons div {\n",
              "      margin-bottom: 4px;\n",
              "    }\n",
              "\n",
              "    [theme=dark] .colab-df-convert {\n",
              "      background-color: #3B4455;\n",
              "      fill: #D2E3FC;\n",
              "    }\n",
              "\n",
              "    [theme=dark] .colab-df-convert:hover {\n",
              "      background-color: #434B5C;\n",
              "      box-shadow: 0px 1px 3px 1px rgba(0, 0, 0, 0.15);\n",
              "      filter: drop-shadow(0px 1px 2px rgba(0, 0, 0, 0.3));\n",
              "      fill: #FFFFFF;\n",
              "    }\n",
              "  </style>\n",
              "\n",
              "    <script>\n",
              "      const buttonEl =\n",
              "        document.querySelector('#df-9a8ef745-0149-4c72-8d3f-9f0483404584 button.colab-df-convert');\n",
              "      buttonEl.style.display =\n",
              "        google.colab.kernel.accessAllowed ? 'block' : 'none';\n",
              "\n",
              "      async function convertToInteractive(key) {\n",
              "        const element = document.querySelector('#df-9a8ef745-0149-4c72-8d3f-9f0483404584');\n",
              "        const dataTable =\n",
              "          await google.colab.kernel.invokeFunction('convertToInteractive',\n",
              "                                                    [key], {});\n",
              "        if (!dataTable) return;\n",
              "\n",
              "        const docLinkHtml = 'Like what you see? Visit the ' +\n",
              "          '<a target=\"_blank\" href=https://colab.research.google.com/notebooks/data_table.ipynb>data table notebook</a>'\n",
              "          + ' to learn more about interactive tables.';\n",
              "        element.innerHTML = '';\n",
              "        dataTable['output_type'] = 'display_data';\n",
              "        await google.colab.output.renderOutput(dataTable, element);\n",
              "        const docLink = document.createElement('div');\n",
              "        docLink.innerHTML = docLinkHtml;\n",
              "        element.appendChild(docLink);\n",
              "      }\n",
              "    </script>\n",
              "  </div>\n",
              "\n",
              "\n",
              "    <div id=\"df-1ec4c680-0a00-4849-b4e3-42891517d6df\">\n",
              "      <button class=\"colab-df-quickchart\" onclick=\"quickchart('df-1ec4c680-0a00-4849-b4e3-42891517d6df')\"\n",
              "                title=\"Suggest charts\"\n",
              "                style=\"display:none;\">\n",
              "\n",
              "<svg xmlns=\"http://www.w3.org/2000/svg\" height=\"24px\"viewBox=\"0 0 24 24\"\n",
              "     width=\"24px\">\n",
              "    <g>\n",
              "        <path d=\"M19 3H5c-1.1 0-2 .9-2 2v14c0 1.1.9 2 2 2h14c1.1 0 2-.9 2-2V5c0-1.1-.9-2-2-2zM9 17H7v-7h2v7zm4 0h-2V7h2v10zm4 0h-2v-4h2v4z\"/>\n",
              "    </g>\n",
              "</svg>\n",
              "      </button>\n",
              "\n",
              "<style>\n",
              "  .colab-df-quickchart {\n",
              "      --bg-color: #E8F0FE;\n",
              "      --fill-color: #1967D2;\n",
              "      --hover-bg-color: #E2EBFA;\n",
              "      --hover-fill-color: #174EA6;\n",
              "      --disabled-fill-color: #AAA;\n",
              "      --disabled-bg-color: #DDD;\n",
              "  }\n",
              "\n",
              "  [theme=dark] .colab-df-quickchart {\n",
              "      --bg-color: #3B4455;\n",
              "      --fill-color: #D2E3FC;\n",
              "      --hover-bg-color: #434B5C;\n",
              "      --hover-fill-color: #FFFFFF;\n",
              "      --disabled-bg-color: #3B4455;\n",
              "      --disabled-fill-color: #666;\n",
              "  }\n",
              "\n",
              "  .colab-df-quickchart {\n",
              "    background-color: var(--bg-color);\n",
              "    border: none;\n",
              "    border-radius: 50%;\n",
              "    cursor: pointer;\n",
              "    display: none;\n",
              "    fill: var(--fill-color);\n",
              "    height: 32px;\n",
              "    padding: 0;\n",
              "    width: 32px;\n",
              "  }\n",
              "\n",
              "  .colab-df-quickchart:hover {\n",
              "    background-color: var(--hover-bg-color);\n",
              "    box-shadow: 0 1px 2px rgba(60, 64, 67, 0.3), 0 1px 3px 1px rgba(60, 64, 67, 0.15);\n",
              "    fill: var(--button-hover-fill-color);\n",
              "  }\n",
              "\n",
              "  .colab-df-quickchart-complete:disabled,\n",
              "  .colab-df-quickchart-complete:disabled:hover {\n",
              "    background-color: var(--disabled-bg-color);\n",
              "    fill: var(--disabled-fill-color);\n",
              "    box-shadow: none;\n",
              "  }\n",
              "\n",
              "  .colab-df-spinner {\n",
              "    border: 2px solid var(--fill-color);\n",
              "    border-color: transparent;\n",
              "    border-bottom-color: var(--fill-color);\n",
              "    animation:\n",
              "      spin 1s steps(1) infinite;\n",
              "  }\n",
              "\n",
              "  @keyframes spin {\n",
              "    0% {\n",
              "      border-color: transparent;\n",
              "      border-bottom-color: var(--fill-color);\n",
              "      border-left-color: var(--fill-color);\n",
              "    }\n",
              "    20% {\n",
              "      border-color: transparent;\n",
              "      border-left-color: var(--fill-color);\n",
              "      border-top-color: var(--fill-color);\n",
              "    }\n",
              "    30% {\n",
              "      border-color: transparent;\n",
              "      border-left-color: var(--fill-color);\n",
              "      border-top-color: var(--fill-color);\n",
              "      border-right-color: var(--fill-color);\n",
              "    }\n",
              "    40% {\n",
              "      border-color: transparent;\n",
              "      border-right-color: var(--fill-color);\n",
              "      border-top-color: var(--fill-color);\n",
              "    }\n",
              "    60% {\n",
              "      border-color: transparent;\n",
              "      border-right-color: var(--fill-color);\n",
              "    }\n",
              "    80% {\n",
              "      border-color: transparent;\n",
              "      border-right-color: var(--fill-color);\n",
              "      border-bottom-color: var(--fill-color);\n",
              "    }\n",
              "    90% {\n",
              "      border-color: transparent;\n",
              "      border-bottom-color: var(--fill-color);\n",
              "    }\n",
              "  }\n",
              "</style>\n",
              "\n",
              "      <script>\n",
              "        async function quickchart(key) {\n",
              "          const quickchartButtonEl =\n",
              "            document.querySelector('#' + key + ' button');\n",
              "          quickchartButtonEl.disabled = true;  // To prevent multiple clicks.\n",
              "          quickchartButtonEl.classList.add('colab-df-spinner');\n",
              "          try {\n",
              "            const charts = await google.colab.kernel.invokeFunction(\n",
              "                'suggestCharts', [key], {});\n",
              "          } catch (error) {\n",
              "            console.error('Error during call to suggestCharts:', error);\n",
              "          }\n",
              "          quickchartButtonEl.classList.remove('colab-df-spinner');\n",
              "          quickchartButtonEl.classList.add('colab-df-quickchart-complete');\n",
              "        }\n",
              "        (() => {\n",
              "          let quickchartButtonEl =\n",
              "            document.querySelector('#df-1ec4c680-0a00-4849-b4e3-42891517d6df button');\n",
              "          quickchartButtonEl.style.display =\n",
              "            google.colab.kernel.accessAllowed ? 'block' : 'none';\n",
              "        })();\n",
              "      </script>\n",
              "    </div>\n",
              "\n",
              "    </div>\n",
              "  </div>\n"
            ],
            "application/vnd.google.colaboratory.intrinsic+json": {
              "type": "dataframe",
              "variable_name": "crime_df"
            }
          },
          "metadata": {},
          "execution_count": 17
        }
      ]
    },
    {
      "cell_type": "markdown",
      "source": [
        "Discription : Visualizations are useful tools, yet without information (for example, policy changes in police), data can be misleading."
      ],
      "metadata": {
        "id": "XK8Cv5t8vlGg"
      }
    },
    {
      "cell_type": "code",
      "source": [
        "#Cleaning and Wrangling the Data\n",
        "\n",
        "#First: Crime Dataset\n",
        "crime_df['Report Date'] = pd.to_datetime(crime_df['Report DateTime'])\n",
        "crime_df['Year'] = crime_df['Report Date'].dt.year\n",
        "crime_df['Crime Category'] = crime_df['Offense Category']\n"
      ],
      "metadata": {
        "id": "ZV17Uisatm-E"
      },
      "execution_count": 11,
      "outputs": []
    },
    {
      "cell_type": "markdown",
      "source": [
        "Recipe 2: \"Data Cleaning in Pandas\":\n",
        "\n",
        "Description: Import a messy dataset and clean it.\n",
        "\n",
        "\n",
        "Goal: Practice standardization, renaming, and null removal.\n",
        "\n",
        "\n",
        "Tools: Pandas"
      ],
      "metadata": {
        "id": "KOksYHtjvD3o"
      }
    },
    {
      "cell_type": "markdown",
      "source": [
        "Description: Cleaning data contributes to 80% of the workload; remember to tackle this part of the process."
      ],
      "metadata": {
        "id": "qLLiC2IKvec7"
      }
    },
    {
      "cell_type": "code",
      "source": [
        "crime_df.columns = crime_df.columns.str.strip().str.lower()\n",
        "crime_df = crime_df.dropna(subset=['report datetime'])\n",
        "crime_df['year'] = pd.to_datetime(crime_df['report datetime']).dt.year\n",
        "crime_df['crime category'] = crime_df['offense category']\n"
      ],
      "metadata": {
        "id": "I-XNxfuuu21y"
      },
      "execution_count": 14,
      "outputs": []
    },
    {
      "cell_type": "markdown",
      "source": [
        "Recipe 3: \"Heatmap of Arrest Frequency\"\n",
        "\n",
        "Description: Visualize arrests per month and day\n",
        "\n",
        "\n",
        "Goal: Find time-based patterns.\n",
        "\n",
        "\n",
        "Tools: Seaborn, Pandas"
      ],
      "metadata": {
        "id": "i0C7DJYavqlV"
      }
    },
    {
      "cell_type": "markdown",
      "source": [
        "Description: Time is an important element in data, and visual trends may indicate policy effects or reporting shortcomings.\n"
      ],
      "metadata": {
        "id": "O6zBPlH9vzlQ"
      }
    },
    {
      "cell_type": "code",
      "source": [
        "crime_df['month'] = pd.to_datetime(crime_df['report datetime']).dt.month # Changed df to crime_df and 'arrest_date' to 'report datetime'\n",
        "crime_df['day'] = pd.to_datetime(crime_df['report datetime']).dt.day_name() # Changed df to crime_df and 'arrest_date' to 'report datetime'\n",
        "pivot = crime_df.pivot_table(index='day', columns='month', values='report number', aggfunc='count') # Changed df to crime_df and assumed 'report number' as a value column, you may need to adjust this\n",
        "sns.heatmap(pivot, cmap='coolwarm')"
      ],
      "metadata": {
        "colab": {
          "base_uri": "https://localhost:8080/",
          "height": 466
        },
        "id": "SQ_J3VdTvvGS",
        "outputId": "9837d6e3-51a2-4d31-fb80-f2a114d45c0d"
      },
      "execution_count": 16,
      "outputs": [
        {
          "output_type": "execute_result",
          "data": {
            "text/plain": [
              "<Axes: xlabel='month', ylabel='day'>"
            ]
          },
          "metadata": {},
          "execution_count": 16
        },
        {
          "output_type": "display_data",
          "data": {
            "text/plain": [
              "<Figure size 640x480 with 2 Axes>"
            ],
            "image/png": "[encoded data removed]"
          },
          "metadata": {}
        }
      ]
    },
    {
      "cell_type": "markdown",
      "source": [
        "Recipe 4: \"Data Ethics Checklist\"\n",
        "Description: Incorporate an ethical check into each project phase.\n",
        "\n",
        "\n",
        "Goal: Formalize values into technical workflow.\n",
        "\n",
        "\n",
        "Tools: Markdown and Code Comments"
      ],
      "metadata": {
        "id": "Es_KNsPGwCYZ"
      }
    },
    {
      "cell_type": "markdown",
      "source": [
        "Description: Ethics must be considered at every stage of the process, not just at the end."
      ],
      "metadata": {
        "id": "FCfZlmcswjsb"
      }
    },
    {
      "cell_type": "markdown",
      "source": [
        "Ethical questions needs to be considered before you proceed with your projects:\n",
        "\n",
        "1. Are there any biases in the dataset?\n",
        "2. Who gains anything from this assessment?\n",
        "3. Did I make personal information anonymous?\n",
        "4. Is it possible to access my graphical representation?\n"
      ],
      "metadata": {
        "id": "PP56sYJswHcf"
      }
    }
  ]
}